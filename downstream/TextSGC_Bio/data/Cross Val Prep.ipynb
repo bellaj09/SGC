{
 "cells": [
  {
   "cell_type": "code",
   "execution_count": 1,
   "metadata": {},
   "outputs": [],
   "source": [
    "import pandas as pd \n",
    "from sklearn.model_selection import StratifiedKFold"
   ]
  },
  {
   "cell_type": "code",
   "execution_count": 27,
   "metadata": {},
   "outputs": [
    {
     "data": {
      "text/html": [
       "<div>\n",
       "<style scoped>\n",
       "    .dataframe tbody tr th:only-of-type {\n",
       "        vertical-align: middle;\n",
       "    }\n",
       "\n",
       "    .dataframe tbody tr th {\n",
       "        vertical-align: top;\n",
       "    }\n",
       "\n",
       "    .dataframe thead th {\n",
       "        text-align: right;\n",
       "    }\n",
       "</style>\n",
       "<table border=\"1\" class=\"dataframe\">\n",
       "  <thead>\n",
       "    <tr style=\"text-align: right;\">\n",
       "      <th></th>\n",
       "      <th>0</th>\n",
       "      <th>1</th>\n",
       "      <th>2</th>\n",
       "    </tr>\n",
       "  </thead>\n",
       "  <tbody>\n",
       "    <tr>\n",
       "      <th>0</th>\n",
       "      <td>data/ohsumed_single_23/test/C01/0001011</td>\n",
       "      <td>test</td>\n",
       "      <td>C01</td>\n",
       "    </tr>\n",
       "    <tr>\n",
       "      <th>1</th>\n",
       "      <td>data/ohsumed_single_23/test/C01/0001072</td>\n",
       "      <td>test</td>\n",
       "      <td>C01</td>\n",
       "    </tr>\n",
       "    <tr>\n",
       "      <th>2</th>\n",
       "      <td>data/ohsumed_single_23/test/C01/0001306</td>\n",
       "      <td>test</td>\n",
       "      <td>C01</td>\n",
       "    </tr>\n",
       "    <tr>\n",
       "      <th>3</th>\n",
       "      <td>data/ohsumed_single_23/test/C01/0001441</td>\n",
       "      <td>test</td>\n",
       "      <td>C01</td>\n",
       "    </tr>\n",
       "    <tr>\n",
       "      <th>4</th>\n",
       "      <td>data/ohsumed_single_23/test/C01/0001450</td>\n",
       "      <td>test</td>\n",
       "      <td>C01</td>\n",
       "    </tr>\n",
       "    <tr>\n",
       "      <th>...</th>\n",
       "      <td>...</td>\n",
       "      <td>...</td>\n",
       "      <td>...</td>\n",
       "    </tr>\n",
       "    <tr>\n",
       "      <th>7395</th>\n",
       "      <td>data/ohsumed_single_23/training/C23/0009946</td>\n",
       "      <td>training</td>\n",
       "      <td>C23</td>\n",
       "    </tr>\n",
       "    <tr>\n",
       "      <th>7396</th>\n",
       "      <td>data/ohsumed_single_23/training/C23/0009963</td>\n",
       "      <td>training</td>\n",
       "      <td>C23</td>\n",
       "    </tr>\n",
       "    <tr>\n",
       "      <th>7397</th>\n",
       "      <td>data/ohsumed_single_23/training/C23/0009964</td>\n",
       "      <td>training</td>\n",
       "      <td>C23</td>\n",
       "    </tr>\n",
       "    <tr>\n",
       "      <th>7398</th>\n",
       "      <td>data/ohsumed_single_23/training/C23/0009970</td>\n",
       "      <td>training</td>\n",
       "      <td>C23</td>\n",
       "    </tr>\n",
       "    <tr>\n",
       "      <th>7399</th>\n",
       "      <td>data/ohsumed_single_23/training/C23/0009991</td>\n",
       "      <td>training</td>\n",
       "      <td>C23</td>\n",
       "    </tr>\n",
       "  </tbody>\n",
       "</table>\n",
       "<p>7400 rows × 3 columns</p>\n",
       "</div>"
      ],
      "text/plain": [
       "                                                0         1    2\n",
       "0         data/ohsumed_single_23/test/C01/0001011      test  C01\n",
       "1         data/ohsumed_single_23/test/C01/0001072      test  C01\n",
       "2         data/ohsumed_single_23/test/C01/0001306      test  C01\n",
       "3         data/ohsumed_single_23/test/C01/0001441      test  C01\n",
       "4         data/ohsumed_single_23/test/C01/0001450      test  C01\n",
       "...                                           ...       ...  ...\n",
       "7395  data/ohsumed_single_23/training/C23/0009946  training  C23\n",
       "7396  data/ohsumed_single_23/training/C23/0009963  training  C23\n",
       "7397  data/ohsumed_single_23/training/C23/0009964  training  C23\n",
       "7398  data/ohsumed_single_23/training/C23/0009970  training  C23\n",
       "7399  data/ohsumed_single_23/training/C23/0009991  training  C23\n",
       "\n",
       "[7400 rows x 3 columns]"
      ]
     },
     "execution_count": 27,
     "metadata": {},
     "output_type": "execute_result"
    }
   ],
   "source": [
    "df = pd.read_csv('ohsumed.txt', sep='\\t',header=None)\n",
    "df"
   ]
  },
  {
   "cell_type": "code",
   "execution_count": 33,
   "metadata": {},
   "outputs": [],
   "source": [
    "df_test = df\n",
    "df_test.iloc[[0,45,181],1] = 'woohoo'\n",
    "df_test.iloc[[0,45,181],:]\n",
    "df_test.to_csv('ohsumed_test.txt',sep='\\t', header=False,index=False)"
   ]
  },
  {
   "cell_type": "code",
   "execution_count": 28,
   "metadata": {},
   "outputs": [],
   "source": [
    "X = df[0]\n",
    "Y = df[2]"
   ]
  },
  {
   "cell_type": "code",
   "execution_count": 29,
   "metadata": {},
   "outputs": [
    {
     "data": {
      "text/plain": [
       "5"
      ]
     },
     "execution_count": 29,
     "metadata": {},
     "output_type": "execute_result"
    }
   ],
   "source": [
    "skf = StratifiedKFold(n_splits=5)\n",
    "skf.get_n_splits(X, Y)"
   ]
  },
  {
   "cell_type": "code",
   "execution_count": 30,
   "metadata": {},
   "outputs": [
    {
     "name": "stdout",
     "output_type": "stream",
     "text": [
      "TRAIN: [  44   45   46 ... 7397 7398 7399] 5920 TEST: [   0    1    2 ... 3780 3781 3782] 1480\n",
      "TRAIN: [   0    1    2 ... 7397 7398 7399] 5920 TEST: [  44   45   46 ... 3939 3940 3941] 1480\n",
      "TRAIN: [   0    1    2 ... 7397 7398 7399] 5920 TEST: [  87   88   89 ... 7078 7079 7080] 1480\n",
      "TRAIN: [   0    1    2 ... 7397 7398 7399] 5920 TEST: [ 147  148  149 ... 7237 7238 7239] 1480\n",
      "TRAIN: [   0    1    2 ... 7237 7238 7239] 5920 TEST: [4114 4115 4116 ... 7397 7398 7399] 1480\n"
     ]
    }
   ],
   "source": [
    "for train_index, test_index in skf.split(X, Y):\n",
    "    print(\"TRAIN:\", train_index, len(train_index), \"TEST:\", test_index, len(test_index))"
   ]
  },
  {
   "cell_type": "code",
   "execution_count": 21,
   "metadata": {},
   "outputs": [
    {
     "name": "stdout",
     "output_type": "stream",
     "text": [
      "0 [  44   45   46 ... 7397 7398 7399] [   0    1    2 ... 3780 3781 3782]\n",
      "1 [   0    1    2 ... 7397 7398 7399] [  44   45   46 ... 3939 3940 3941]\n",
      "2 [   0    1    2 ... 7397 7398 7399] [  87   88   89 ... 7078 7079 7080]\n",
      "3 [   0    1    2 ... 7397 7398 7399] [ 147  148  149 ... 7237 7238 7239]\n",
      "4 [   0    1    2 ... 7237 7238 7239] [4114 4115 4116 ... 7397 7398 7399]\n"
     ]
    }
   ],
   "source": [
    "for i,j in enumerate(skf.split(X, Y)):\n",
    "    print(i,j[0],j[1])"
   ]
  },
  {
   "cell_type": "code",
   "execution_count": 36,
   "metadata": {},
   "outputs": [
    {
     "name": "stdout",
     "output_type": "stream",
     "text": [
      "ohsumed0.txt\n",
      "ohsumed1.txt\n",
      "ohsumed2.txt\n",
      "ohsumed3.txt\n",
      "ohsumed4.txt\n"
     ]
    }
   ],
   "source": [
    "import pandas as pd \n",
    "from sklearn.model_selection import StratifiedKFold\n",
    "df = pd.read_csv('ohsumed.txt', sep='\\t',header=None)\n",
    "X = df[0]\n",
    "Y = df[2]\n",
    "skf = StratifiedKFold(n_splits=5)\n",
    "for i, arrays in enumerate(skf.split(X, Y)): \n",
    "    train_index = arrays[0]\n",
    "    test_index = arrays[1]\n",
    "    df.iloc[[train_index],1] = 'train'\n",
    "    df.iloc[[test_index],1] = 'test'\n",
    "    filename = 'ohsumed{}.txt'.format(i)\n",
    "    print(filename)\n",
    "    df.to_csv(filename,sep='\\t', header=False,index=False)"
   ]
  },
  {
   "cell_type": "code",
   "execution_count": null,
   "metadata": {},
   "outputs": [],
   "source": []
  }
 ],
 "metadata": {
  "kernelspec": {
   "display_name": "Python 3",
   "language": "python",
   "name": "python3"
  },
  "language_info": {
   "codemirror_mode": {
    "name": "ipython",
    "version": 3
   },
   "file_extension": ".py",
   "mimetype": "text/x-python",
   "name": "python",
   "nbconvert_exporter": "python",
   "pygments_lexer": "ipython3",
   "version": "3.8.3"
  }
 },
 "nbformat": 4,
 "nbformat_minor": 4
}
