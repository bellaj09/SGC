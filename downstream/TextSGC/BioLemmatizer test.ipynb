{
 "cells": [
  {
   "cell_type": "code",
   "execution_count": 33,
   "metadata": {},
   "outputs": [],
   "source": [
    "import nltk\n",
    "import subprocess\n",
    "import pandas as pd\n",
    "import timeit\n",
    "from nltk import pos_tag\n",
    "nltk.download('averaged_perceptron_tagger')"
   ]
  },
  {
   "cell_type": "code",
   "execution_count": 44,
   "metadata": {},
   "outputs": [
    {
     "data": {
      "text/plain": [
       "['initial',\n",
       " 'clinical',\n",
       " 'critical',\n",
       " 'care',\n",
       " 'covid19',\n",
       " 'patients',\n",
       " 'seattle',\n",
       " 'new',\n",
       " 'york',\n",
       " 'city',\n",
       " 'chicago',\n",
       " 'since',\n",
       " 'first',\n",
       " 'recognition',\n",
       " 'cluster',\n",
       " 'novel',\n",
       " 'respiratory',\n",
       " 'viral',\n",
       " 'infections',\n",
       " 'china',\n",
       " 'late',\n",
       " 'december',\n",
       " '2019',\n",
       " 'intensivists',\n",
       " 'united',\n",
       " 'states',\n",
       " 'growing',\n",
       " 'concern',\n",
       " 'infections',\n",
       " 'severe',\n",
       " 'acute',\n",
       " 'respiratory',\n",
       " 'syndrome',\n",
       " 'coronavirus',\n",
       " '2',\n",
       " 'sarscov2',\n",
       " 'named',\n",
       " 'coronavirus',\n",
       " 'disease',\n",
       " '2019',\n",
       " 'spread',\n",
       " 'hospitals',\n",
       " 'united',\n",
       " 'states',\n",
       " 'covid19',\n",
       " 'extremely',\n",
       " 'transmissible',\n",
       " 'progress',\n",
       " 'severe',\n",
       " 'form',\n",
       " 'respiratory',\n",
       " 'failure',\n",
       " 'potential',\n",
       " 'overwhelm',\n",
       " 'available',\n",
       " 'critical',\n",
       " 'care',\n",
       " 'resources',\n",
       " 'high',\n",
       " 'critical',\n",
       " 'care',\n",
       " 'management',\n",
       " 'covid19',\n",
       " 'patients',\n",
       " 'spotlight',\n",
       " 'covid19',\n",
       " 'arrived',\n",
       " 'united',\n",
       " 'states',\n",
       " 'january',\n",
       " 'anticipated',\n",
       " 'dramatically',\n",
       " 'increased',\n",
       " 'usage',\n",
       " 'critical',\n",
       " 'care',\n",
       " 'resources',\n",
       " 'three',\n",
       " 'hardesthit',\n",
       " 'cities',\n",
       " 'seattle',\n",
       " 'new',\n",
       " 'york',\n",
       " 'city',\n",
       " 'chicago',\n",
       " 'combined',\n",
       " 'total',\n",
       " 'cases',\n",
       " 'march',\n",
       " '23',\n",
       " '2020in',\n",
       " 'special',\n",
       " 'article',\n",
       " 'describe',\n",
       " 'initial',\n",
       " 'clinical',\n",
       " 'critical',\n",
       " 'care',\n",
       " 'covid19',\n",
       " 'areas',\n",
       " 'attention',\n",
       " 'clinical',\n",
       " 'presentation',\n",
       " 'laboratory',\n",
       " 'values',\n",
       " 'organ',\n",
       " 'system',\n",
       " 'effects',\n",
       " 'treatment',\n",
       " 'strategies',\n",
       " 'resource',\n",
       " 'management',\n",
       " 'highlight',\n",
       " 'clinical',\n",
       " 'observations',\n",
       " 'align',\n",
       " 'differ',\n",
       " 'already',\n",
       " 'published',\n",
       " 'reports',\n",
       " 'represent',\n",
       " 'early',\n",
       " 'empiric',\n",
       " 'experience',\n",
       " 'authors',\n",
       " 'intended',\n",
       " 'serve',\n",
       " 'recommendations',\n",
       " 'guidelines',\n",
       " 'practice',\n",
       " 'rather',\n",
       " 'starting',\n",
       " 'point',\n",
       " 'intensivists',\n",
       " 'preparing',\n",
       " 'address',\n",
       " 'covid19',\n",
       " 'community']"
      ]
     },
     "execution_count": 44,
     "metadata": {},
     "output_type": "execute_result"
    }
   ],
   "source": [
    "string = 'initial clinical critical care covid19 patients seattle new york city chicago since first recognition cluster novel respiratory viral infections china late december 2019 intensivists united states growing concern infections severe acute respiratory syndrome coronavirus 2 sarscov2 named coronavirus disease 2019 spread hospitals united states covid19 extremely transmissible progress severe form respiratory failure potential overwhelm available critical care resources high critical care management covid19 patients spotlight covid19 arrived united states january anticipated dramatically increased usage critical care resources three hardesthit cities seattle new york city chicago combined total cases march 23 2020in special article describe initial clinical critical care covid19 areas attention clinical presentation laboratory values organ system effects treatment strategies resource management highlight clinical observations align differ already published reports represent early empiric experience authors intended serve recommendations guidelines practice rather starting point intensivists preparing address covid19 community'\n",
    "string_sep = string.split()\n",
    "string_sep"
   ]
  },
  {
   "cell_type": "code",
   "execution_count": 39,
   "metadata": {},
   "outputs": [],
   "source": []
  },
  {
   "cell_type": "code",
   "execution_count": 40,
   "metadata": {},
   "outputs": [],
   "source": []
  },
  {
   "cell_type": "code",
   "execution_count": 46,
   "metadata": {},
   "outputs": [
    {
     "name": "stdout",
     "output_type": "stream",
     "text": [
      "Time:  2.592140976999872\n",
      "initial clinical critical care covid19 patient seattle new york city chicago since first recognition cluster novel respiratory viral infection china late december 2019 intensivist unite state grow concern infection severe acute respiratory syndrome Coronavirus 2 sarscov2 name Coronavirus disease 2019 spread hospital unite state covid19 extreme transmissible progress severe form respiratory failure potential overwhelm available critical care resource high critical care management covid19 patient spotlight covid19 arrive unite state january anticipate dramatic increase usage critical care resource three hardesthit city seattle new york city chicago combine total case march 23 2020in special article describe initial clinical critical care covid19 area attention clinical presentation laboratory value organ system effect treatment strategy resource management highlight clinical observation align differ already publish report represent early empiric experience author intend serve recommendation guideline practice rather start point intensivist prepare address covid19 community\n"
     ]
    }
   ],
   "source": [
    "#result = check_output(['java', '-jar', 'biolemmatizer-core-1.2-jar-with-dependencies.jar'], input=b'foo')\n",
    "start = timeit.default_timer()\n",
    "tagged_string = pos_tag(string_sep)\n",
    "tagged_df = pd.DataFrame(tagged_string)\n",
    "tagged_df.to_csv('tagged_string.txt',sep = '\\t',header = False, index = False)\n",
    "subprocess.run([\"java -Xmx1G -jar biolemmatizer-core-1.2-jar-with-dependencies.jar -l -i 'tagged_string.txt' -o 'biolemmatizer_output.txt'\"], shell=True)\n",
    "df = pd.read_csv('biolemmatizer_output.txt', header=None, sep='\\t')\n",
    "df2 = df[2]\n",
    "stop = timeit.default_timer()\n",
    "print('Time: ', stop - start)\n",
    "print(' '.join(df2))"
   ]
  },
  {
   "cell_type": "code",
   "execution_count": 21,
   "metadata": {},
   "outputs": [],
   "source": []
  },
  {
   "cell_type": "code",
   "execution_count": 31,
   "metadata": {},
   "outputs": [
    {
     "data": {
      "text/plain": [
       "0        Bmp7\n",
       "1    knockout\n",
       "2       mouse\n",
       "3          do\n",
       "4         not\n",
       "5        show\n",
       "6         any\n",
       "Name: 2, dtype: object"
      ]
     },
     "execution_count": 31,
     "metadata": {},
     "output_type": "execute_result"
    }
   ],
   "source": [
    "df2"
   ]
  },
  {
   "cell_type": "code",
   "execution_count": 32,
   "metadata": {},
   "outputs": [
    {
     "data": {
      "text/plain": [
       "'Bmp7 knockout mouse do not show any'"
      ]
     },
     "execution_count": 32,
     "metadata": {},
     "output_type": "execute_result"
    }
   ],
   "source": []
  },
  {
   "cell_type": "code",
   "execution_count": null,
   "metadata": {},
   "outputs": [],
   "source": []
  }
 ],
 "metadata": {
  "kernelspec": {
   "display_name": "Python 3",
   "language": "python",
   "name": "python3"
  },
  "language_info": {
   "codemirror_mode": {
    "name": "ipython",
    "version": 3
   },
   "file_extension": ".py",
   "mimetype": "text/x-python",
   "name": "python",
   "nbconvert_exporter": "python",
   "pygments_lexer": "ipython3",
   "version": "3.8.3"
  }
 },
 "nbformat": 4,
 "nbformat_minor": 4
}
