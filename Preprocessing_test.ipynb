{
 "cells": [
  {
   "cell_type": "code",
   "execution_count": 1,
   "metadata": {},
   "outputs": [],
   "source": [
    "from nltk.stem import WordNetLemmatizer "
   ]
  },
  {
   "cell_type": "code",
   "execution_count": 2,
   "metadata": {},
   "outputs": [],
   "source": [
    "string = 'initial clinical critical care covid19 patients seattle new york city chicago since first recognition cluster novel respiratory viral infections china late december 2019 intensivists united states growing concern infections severe acute respiratory syndrome coronavirus 2 sarscov2 named coronavirus disease 2019 spread hospitals united states covid19 extremely transmissible progress severe form respiratory failure potential overwhelm available critical care resources high critical care management covid19 patients spotlight covid19 arrived united states january anticipated dramatically increased usage critical care resources three hardesthit cities seattle new york city chicago combined total cases march 23 2020in special article describe initial clinical critical care covid19 areas attention clinical presentation laboratory values organ system effects treatment strategies resource management highlight clinical observations align differ already published reports represent early empiric experience authors intended serve recommendations guidelines practice rather starting point intensivists preparing address covid19 community'"
   ]
  },
  {
   "cell_type": "code",
   "execution_count": 5,
   "metadata": {},
   "outputs": [
    {
     "name": "stdout",
     "output_type": "stream",
     "text": [
      "initial clinical critical care covid19 patients seattle new york city chicago since first recognition cluster novel respiratory viral infections china late december 2019 intensivists united states growing concern infections severe acute respiratory syndrome coronavirus 2 sarscov2 named coronavirus disease 2019 spread hospitals united states covid19 extremely transmissible progress severe form respiratory failure potential overwhelm available critical care resources high critical care management covid19 patients spotlight covid19 arrived united states january anticipated dramatically increased usage critical care resources three hardesthit cities seattle new york city chicago combined total cases march 23 2020in special article describe initial clinical critical care covid19 areas attention clinical presentation laboratory values organ system effects treatment strategies resource management highlight clinical observations align differ already published reports represent early empiric experience authors intended serve recommendations guidelines practice rather starting point intensivists preparing address covid19 community\n"
     ]
    }
   ],
   "source": [
    "lemmatizer = WordNetLemmatizer() \n",
    "print(string)"
   ]
  },
  {
   "cell_type": "code",
   "execution_count": 7,
   "metadata": {},
   "outputs": [],
   "source": [
    "string_sep = string.split()"
   ]
  },
  {
   "cell_type": "code",
   "execution_count": 16,
   "metadata": {},
   "outputs": [],
   "source": [
    "for i in range(len(string_sep)):\n",
    "    current_word = string_sep[i]\n",
    "    string_sep[i] = lemmatizer.lemmatize(current_word)"
   ]
  },
  {
   "cell_type": "code",
   "execution_count": 17,
   "metadata": {},
   "outputs": [
    {
     "data": {
      "text/plain": [
       "['initial',\n",
       " 'clinical',\n",
       " 'critical',\n",
       " 'care',\n",
       " 'covid19',\n",
       " 'patient',\n",
       " 'seattle',\n",
       " 'new',\n",
       " 'york',\n",
       " 'city',\n",
       " 'chicago',\n",
       " 'since',\n",
       " 'first',\n",
       " 'recognition',\n",
       " 'cluster',\n",
       " 'novel',\n",
       " 'respiratory',\n",
       " 'viral',\n",
       " 'infection',\n",
       " 'china',\n",
       " 'late',\n",
       " 'december',\n",
       " '2019',\n",
       " 'intensivists',\n",
       " 'united',\n",
       " 'state',\n",
       " 'growing',\n",
       " 'concern',\n",
       " 'infection',\n",
       " 'severe',\n",
       " 'acute',\n",
       " 'respiratory',\n",
       " 'syndrome',\n",
       " 'coronavirus',\n",
       " '2',\n",
       " 'sarscov2',\n",
       " 'named',\n",
       " 'coronavirus',\n",
       " 'disease',\n",
       " '2019',\n",
       " 'spread',\n",
       " 'hospital',\n",
       " 'united',\n",
       " 'state',\n",
       " 'covid19',\n",
       " 'extremely',\n",
       " 'transmissible',\n",
       " 'progress',\n",
       " 'severe',\n",
       " 'form',\n",
       " 'respiratory',\n",
       " 'failure',\n",
       " 'potential',\n",
       " 'overwhelm',\n",
       " 'available',\n",
       " 'critical',\n",
       " 'care',\n",
       " 'resource',\n",
       " 'high',\n",
       " 'critical',\n",
       " 'care',\n",
       " 'management',\n",
       " 'covid19',\n",
       " 'patient',\n",
       " 'spotlight',\n",
       " 'covid19',\n",
       " 'arrived',\n",
       " 'united',\n",
       " 'state',\n",
       " 'january',\n",
       " 'anticipated',\n",
       " 'dramatically',\n",
       " 'increased',\n",
       " 'usage',\n",
       " 'critical',\n",
       " 'care',\n",
       " 'resource',\n",
       " 'three',\n",
       " 'hardesthit',\n",
       " 'city',\n",
       " 'seattle',\n",
       " 'new',\n",
       " 'york',\n",
       " 'city',\n",
       " 'chicago',\n",
       " 'combined',\n",
       " 'total',\n",
       " 'case',\n",
       " 'march',\n",
       " '23',\n",
       " '2020in',\n",
       " 'special',\n",
       " 'article',\n",
       " 'describe',\n",
       " 'initial',\n",
       " 'clinical',\n",
       " 'critical',\n",
       " 'care',\n",
       " 'covid19',\n",
       " 'area',\n",
       " 'attention',\n",
       " 'clinical',\n",
       " 'presentation',\n",
       " 'laboratory',\n",
       " 'value',\n",
       " 'organ',\n",
       " 'system',\n",
       " 'effect',\n",
       " 'treatment',\n",
       " 'strategy',\n",
       " 'resource',\n",
       " 'management',\n",
       " 'highlight',\n",
       " 'clinical',\n",
       " 'observation',\n",
       " 'align',\n",
       " 'differ',\n",
       " 'already',\n",
       " 'published',\n",
       " 'report',\n",
       " 'represent',\n",
       " 'early',\n",
       " 'empiric',\n",
       " 'experience',\n",
       " 'author',\n",
       " 'intended',\n",
       " 'serve',\n",
       " 'recommendation',\n",
       " 'guideline',\n",
       " 'practice',\n",
       " 'rather',\n",
       " 'starting',\n",
       " 'point',\n",
       " 'intensivists',\n",
       " 'preparing',\n",
       " 'address',\n",
       " 'covid19',\n",
       " 'community']"
      ]
     },
     "execution_count": 17,
     "metadata": {},
     "output_type": "execute_result"
    }
   ],
   "source": [
    "string_sep"
   ]
  },
  {
   "cell_type": "code",
   "execution_count": null,
   "metadata": {},
   "outputs": [],
   "source": []
  }
 ],
 "metadata": {
  "kernelspec": {
   "display_name": "Python 3",
   "language": "python",
   "name": "python3"
  },
  "language_info": {
   "codemirror_mode": {
    "name": "ipython",
    "version": 3
   },
   "file_extension": ".py",
   "mimetype": "text/x-python",
   "name": "python",
   "nbconvert_exporter": "python",
   "pygments_lexer": "ipython3",
   "version": "3.8.3"
  }
 },
 "nbformat": 4,
 "nbformat_minor": 4
}
